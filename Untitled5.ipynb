{
 "cells": [
  {
   "cell_type": "code",
   "execution_count": 12,
   "id": "525434b8",
   "metadata": {},
   "outputs": [],
   "source": [
    "def oddi():\n",
    "    r = []\n",
    "    for i in range(1,25):\n",
    "        if i%2 != 0:\n",
    "            r.append(i)\n",
    "    print(r)"
   ]
  },
  {
   "cell_type": "code",
   "execution_count": 13,
   "id": "7e5f6607",
   "metadata": {},
   "outputs": [],
   "source": [
    "kk = [3,2,5,44,32,35,67,76,78,54,322,14,5,99,97,88]"
   ]
  },
  {
   "cell_type": "code",
   "execution_count": 14,
   "id": "91f5c011",
   "metadata": {},
   "outputs": [
    {
     "name": "stdout",
     "output_type": "stream",
     "text": [
      "[1, 3, 5, 7, 9, 11, 13, 15, 17, 19, 21, 23]\n"
     ]
    }
   ],
   "source": [
    "oddi()"
   ]
  },
  {
   "cell_type": "markdown",
   "id": "ffa51f23",
   "metadata": {},
   "source": [
    "# what is a generator function"
   ]
  },
  {
   "cell_type": "markdown",
   "id": "c9c4df10",
   "metadata": {},
   "source": [
    "#### This is a type of function that is used to reduce the amount of time to run a code, as the results are not saved in a local memory \n",
    "#### in this instance the computer does not spend time to create data\n",
    "#### it makes use of the keyword \"yield\" which works like return but does not save the data in local memory"
   ]
  },
  {
   "cell_type": "code",
   "execution_count": 22,
   "id": "a0e811e5",
   "metadata": {},
   "outputs": [],
   "source": [
    "#we write an example of a generator function to give a specific sequence in a number\n",
    "def seqi(l):\n",
    "    a,b = 0,2\n",
    "    for i in range(l):\n",
    "        yield a\n",
    "        a,b = b, (a+b)*2"
   ]
  },
  {
   "cell_type": "code",
   "execution_count": 23,
   "id": "047c37ec",
   "metadata": {},
   "outputs": [
    {
     "name": "stdout",
     "output_type": "stream",
     "text": [
      "0\n",
      "2\n",
      "4\n",
      "12\n",
      "32\n",
      "88\n",
      "240\n",
      "656\n",
      "1792\n",
      "4896\n",
      "13376\n",
      "36544\n",
      "99840\n",
      "272768\n",
      "745216\n",
      "2035968\n",
      "5562368\n",
      "15196672\n",
      "41518080\n",
      "113429504\n"
     ]
    }
   ],
   "source": [
    "#now let us test this function on a given number:: 10\n",
    "\n",
    "for i in seqi(20):\n",
    "    print(i)"
   ]
  },
  {
   "cell_type": "code",
   "execution_count": null,
   "id": "0d858678",
   "metadata": {},
   "outputs": [],
   "source": []
  },
  {
   "cell_type": "markdown",
   "id": "9c73a044",
   "metadata": {},
   "source": [
    "## we will create a generator function for prime numbers less than 100"
   ]
  },
  {
   "cell_type": "code",
   "execution_count": 16,
   "id": "95c5f9a5",
   "metadata": {},
   "outputs": [],
   "source": [
    "def geni(k):\n",
    "    for i in k:\n",
    "        if i%1 == 0 or i%1 == 0:\n",
    "            yield i\n"
   ]
  },
  {
   "cell_type": "code",
   "execution_count": 18,
   "id": "02e066ee",
   "metadata": {},
   "outputs": [
    {
     "data": {
      "text/plain": [
       "<generator object geni at 0x0000025BBDBC3840>"
      ]
     },
     "execution_count": 18,
     "metadata": {},
     "output_type": "execute_result"
    }
   ],
   "source": [
    "geni(1000)"
   ]
  },
  {
   "cell_type": "code",
   "execution_count": 19,
   "id": "c4e57446",
   "metadata": {},
   "outputs": [
    {
     "ename": "TypeError",
     "evalue": "'int' object is not iterable",
     "output_type": "error",
     "traceback": [
      "\u001b[1;31m---------------------------------------------------------------------------\u001b[0m",
      "\u001b[1;31mTypeError\u001b[0m                                 Traceback (most recent call last)",
      "Cell \u001b[1;32mIn[19], line 1\u001b[0m\n\u001b[1;32m----> 1\u001b[0m \u001b[38;5;28;01mfor\u001b[39;00m i \u001b[38;5;129;01min\u001b[39;00m geni(\u001b[38;5;241m1000\u001b[39m):\n\u001b[0;32m      2\u001b[0m     \u001b[38;5;28mprint\u001b[39m(i)\n",
      "Cell \u001b[1;32mIn[16], line 2\u001b[0m, in \u001b[0;36mgeni\u001b[1;34m(k)\u001b[0m\n\u001b[0;32m      1\u001b[0m \u001b[38;5;28;01mdef\u001b[39;00m \u001b[38;5;21mgeni\u001b[39m(k):\n\u001b[1;32m----> 2\u001b[0m     \u001b[38;5;28;01mfor\u001b[39;00m i \u001b[38;5;129;01min\u001b[39;00m k:\n\u001b[0;32m      3\u001b[0m         \u001b[38;5;28;01mif\u001b[39;00m i\u001b[38;5;241m%\u001b[39m\u001b[38;5;241m1\u001b[39m \u001b[38;5;241m==\u001b[39m \u001b[38;5;241m0\u001b[39m \u001b[38;5;129;01mor\u001b[39;00m i\u001b[38;5;241m%\u001b[39m\u001b[38;5;241m1\u001b[39m \u001b[38;5;241m==\u001b[39m \u001b[38;5;241m0\u001b[39m:\n\u001b[0;32m      4\u001b[0m             \u001b[38;5;28;01myield\u001b[39;00m i\n",
      "\u001b[1;31mTypeError\u001b[0m: 'int' object is not iterable"
     ]
    }
   ],
   "source": [
    "for i in geni(1000):\n",
    "    print(i)"
   ]
  },
  {
   "cell_type": "markdown",
   "id": "5dcbc633",
   "metadata": {},
   "source": [
    "# lambda functions\n",
    "\n",
    "## Used to write functions in short codes"
   ]
  },
  {
   "cell_type": "code",
   "execution_count": 30,
   "id": "d0f8b7af",
   "metadata": {},
   "outputs": [
    {
     "ename": "SyntaxError",
     "evalue": "invalid syntax (682830819.py, line 5)",
     "output_type": "error",
     "traceback": [
      "\u001b[1;36m  Cell \u001b[1;32mIn[30], line 5\u001b[1;36m\u001b[0m\n\u001b[1;33m    ss=lambda x: for i,j in x: sorted(j)\u001b[0m\n\u001b[1;37m                 ^\u001b[0m\n\u001b[1;31mSyntaxError\u001b[0m\u001b[1;31m:\u001b[0m invalid syntax\n"
     ]
    }
   ],
   "source": [
    "f = [('Loki Manji', 34357), ('Ricky Fining', 27483), ('MARV Kallis', 25534), ('Virat Kohli', 24936)]\n",
    "\n",
    "#writing a lambda function to sort the elements in the list above based on integer value\n",
    "\n",
    "ss=lambda x: for i,j in x: sorted(j)\n"
   ]
  },
  {
   "cell_type": "code",
   "execution_count": 27,
   "id": "b0980914",
   "metadata": {},
   "outputs": [
    {
     "data": {
      "text/plain": [
       "[('Loki Manji', 34357),\n",
       " ('MARV Kallis', 25534),\n",
       " ('Ricky Fining', 27483),\n",
       " ('Virat Kohli', 24936)]"
      ]
     },
     "execution_count": 27,
     "metadata": {},
     "output_type": "execute_result"
    }
   ],
   "source": [
    "ss(f)"
   ]
  },
  {
   "cell_type": "code",
   "execution_count": null,
   "id": "ce40a602",
   "metadata": {},
   "outputs": [],
   "source": []
  },
  {
   "cell_type": "code",
   "execution_count": null,
   "id": "9cd84287",
   "metadata": {},
   "outputs": [],
   "source": []
  },
  {
   "cell_type": "code",
   "execution_count": null,
   "id": "86af75e4",
   "metadata": {},
   "outputs": [],
   "source": []
  }
 ],
 "metadata": {
  "kernelspec": {
   "display_name": "Python 3 (ipykernel)",
   "language": "python",
   "name": "python3"
  },
  "language_info": {
   "codemirror_mode": {
    "name": "ipython",
    "version": 3
   },
   "file_extension": ".py",
   "mimetype": "text/x-python",
   "name": "python",
   "nbconvert_exporter": "python",
   "pygments_lexer": "ipython3",
   "version": "3.10.9"
  }
 },
 "nbformat": 4,
 "nbformat_minor": 5
}
