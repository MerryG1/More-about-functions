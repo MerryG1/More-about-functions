{
 "cells": [
  {
   "cell_type": "code",
   "execution_count": 12,
   "id": "525434b8",
   "metadata": {},
   "outputs": [],
   "source": [
    "def oddi():\n",
    "    r = []\n",
    "    for i in range(1,25):\n",
    "        if i%2 != 0:\n",
    "            r.append(i)\n",
    "    print(r)"
   ]
  },
  {
   "cell_type": "code",
   "execution_count": 13,
   "id": "7e5f6607",
   "metadata": {},
   "outputs": [],
   "source": [
    "kk = [3,2,5,44,32,35,67,76,78,54,322,14,5,99,97,88]"
   ]
  },
  {
   "cell_type": "code",
   "execution_count": 14,
   "id": "91f5c011",
   "metadata": {},
   "outputs": [
    {
     "name": "stdout",
     "output_type": "stream",
     "text": [
      "[1, 3, 5, 7, 9, 11, 13, 15, 17, 19, 21, 23]\n"
     ]
    }
   ],
   "source": [
    "oddi()"
   ]
  },
  {
   "cell_type": "markdown",
   "id": "ffa51f23",
   "metadata": {},
   "source": [
    "# what is a generator function"
   ]
  },
  {
   "cell_type": "markdown",
   "id": "c9c4df10",
   "metadata": {},
   "source": [
    "#### This is a type of function that is used to reduce the amount of time to run a code, as the results are not saved in a local memory \n",
    "#### in this instance the computer does not spend time to create data\n",
    "#### it makes use of the keyword \"yield\" which works like return but does not save the data in local memory"
   ]
  },
  {
   "cell_type": "code",
   "execution_count": 22,
   "id": "a0e811e5",
   "metadata": {},
   "outputs": [],
   "source": [
    "#we write an example of a generator function to give a specific sequence in a number\n",
    "def seqi(l):\n",
    "    a,b = 0,2\n",
    "    for i in range(l):\n",
    "        yield a\n",
    "        a,b = b, (a+b)*2"
   ]
  },
  {
   "cell_type": "code",
   "execution_count": 23,
   "id": "047c37ec",
   "metadata": {},
   "outputs": [
    {
     "name": "stdout",
     "output_type": "stream",
     "text": [
      "0\n",
      "2\n",
      "4\n",
      "12\n",
      "32\n",
      "88\n",
      "240\n",
      "656\n",
      "1792\n",
      "4896\n",
      "13376\n",
      "36544\n",
      "99840\n",
      "272768\n",
      "745216\n",
      "2035968\n",
      "5562368\n",
      "15196672\n",
      "41518080\n",
      "113429504\n"
     ]
    }
   ],
   "source": [
    "#now let us test this function on a given number:: 10\n",
    "\n",
    "for i in seqi(20):\n",
    "    print(i)"
   ]
  }
